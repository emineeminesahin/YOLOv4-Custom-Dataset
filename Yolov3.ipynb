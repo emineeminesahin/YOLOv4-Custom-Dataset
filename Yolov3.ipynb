{
  "nbformat": 4,
  "nbformat_minor": 0,
  "metadata": {
    "accelerator": "GPU",
    "colab": {
      "provenance": []
    },
    "kernelspec": {
      "display_name": "Python 3",
      "name": "python3"
    }
  },
  "cells": [
    {
      "cell_type": "markdown",
      "metadata": {
        "id": "9JJxbik7865y"
      },
      "source": [
        "##**Drive Bağlantısı**"
      ]
    },
    {
      "cell_type": "code",
      "metadata": {
        "id": "uMLpWp-DZSZY"
      },
      "source": [
        "from google.colab import drive # Drive hesabımızı ekliyoruz\n",
        "drive.mount('/content/gdrive')"
      ],
      "execution_count": null,
      "outputs": []
    },
    {
      "cell_type": "markdown",
      "metadata": {
        "id": "v-5scO9H9JdK"
      },
      "source": [
        "##**Zip'ten Çıkarma**"
      ]
    },
    {
      "cell_type": "code",
      "metadata": {
        "id": "nwJkZA5IbgCS"
      },
      "source": [
        "!unzip \"/content/gdrive/MyDrive/darknet.zip\" -d \"/content/\" # Darknet dosyamızı zipten çıkarıyoruz"
      ],
      "execution_count": null,
      "outputs": []
    },
    {
      "cell_type": "markdown",
      "metadata": {
        "id": "iz9x-nhk9gHI"
      },
      "source": [
        "###**Make**\n",
        "Çalıştırma (eğer sonu lcudann -lstdc++ ile bitiyorsa herhangi bir sorun yoktur )\n"
      ]
    },
    {
      "cell_type": "code",
      "metadata": {
        "id": "q2Jjv0yRKLPe"
      },
      "source": [
        "# darknet'i oluşturur, böylece darknet yürütülebilir dosyasını nesne dedektörlerini çalıştırmak veya eğitmek için kullanabilirsiniz\n",
        "%cd /content/darknet\n",
        "!make "
      ],
      "execution_count": null,
      "outputs": []
    },
    {
      "cell_type": "markdown",
      "metadata": {
        "id": "0-Rdj34g9wMs"
      },
      "source": [
        "###**Backup Bağlantısı**"
      ]
    },
    {
      "cell_type": "code",
      "metadata": {
        "id": "Vo7Y9OrTYL_C"
      },
      "source": [
        "!rm /content/darknet/backup -r # Darknetin içindeki backup klasörünü siliyoruz"
      ],
      "execution_count": null,
      "outputs": []
    },
    {
      "cell_type": "code",
      "metadata": {
        "id": "uQ564PiP9vLc"
      },
      "source": [
        "!ln -s /content/gdrive/\"My Drive\"/yolo_weights/backup /content/darknet/ # Drive içine backup adında klasör oluşturuyoruz ve buraya bağlıyoruz\n",
        "%pwd"
      ],
      "execution_count": null,
      "outputs": []
    },
    {
      "cell_type": "markdown",
      "metadata": {
        "id": "uGmh6ga493yy"
      },
      "source": [
        "###**Eğitim**"
      ]
    },
    {
      "cell_type": "code",
      "metadata": {
        "id": "0-eebDonXOPB"
      },
      "source": [
        "!./darknet detector train data_ders/ders.data yolov4_ders.cfg /content/darknet/yolov4.conv.137 -map -dont_show"
      ],
      "execution_count": null,
      "outputs": []
    },
    {
      "cell_type": "markdown",
      "metadata": {
        "id": "kZF88Z4S98J9"
      },
      "source": [
        "###**Map Testi**"
      ]
    },
    {
      "cell_type": "code",
      "metadata": {
        "id": "2UoSBmTFlNep"
      },
      "source": [
        "!./darknet detector map data_ders/ders.data yolov4_ders.cfg /content/gdrive/MyDrive/yolov4_ders_lastt.weights"
      ],
      "execution_count": null,
      "outputs": []
    },
    {
      "cell_type": "markdown",
      "metadata": {
        "id": "8dfPY2h39m-T"
      },
      "source": [
        "###**Modelimizi Çalıştıralım**\n"
      ]
    },
    {
      "cell_type": "code",
      "metadata": {
        "id": "xXkZNeA09o2f"
      },
      "source": [
        "# özel cfg'mizi test moduna ayarlamamız gerekiyor\n",
        "%cd  /content/darknet\n",
        "!sed -i 's/batch=64/batch=1/' yolov4_ders.cfg\n",
        "!sed -i 's/subdivisions=64/subdivisions=1/' yolov4_ders.cfg\n",
        "%cd .."
      ],
      "execution_count": null,
      "outputs": []
    },
    {
      "cell_type": "markdown",
      "metadata": {
        "id": "0AWE3Z_c-fHt"
      },
      "source": [
        "###**Test**"
      ]
    },
    {
      "cell_type": "code",
      "metadata": {
        "id": "o7IIzEal90dA"
      },
      "source": [
        "%cd /content/darknet\n",
        "!./darknet detector test data_ders/ders.data yolov4_ders.cfg /content/gdrive/MyDrive/yolov4_ders_lastt.weights /content/images.jpg -thresh 0.8"
      ],
      "execution_count": null,
      "outputs": []
    },
    {
      "cell_type": "markdown",
      "metadata": {
        "id": "ziTSGGYKoRzN"
      },
      "source": [
        "#**DeepSort Algortiması - Nesne Takibi**"
      ]
    },
    {
      "cell_type": "code",
      "metadata": {
        "id": "FfaPQE09oYz-"
      },
      "source": [
        "!git clone https://github.com/theAIGuysCode/yolov4-deepsort\n",
        "%cd yolov4-deepsort/"
      ],
      "execution_count": null,
      "outputs": []
    },
    {
      "cell_type": "markdown",
      "metadata": {
        "id": "QNzpHFFHpYBv"
      },
      "source": [
        "###**Tensorflow ve Diğer Kurulumlar**"
      ]
    },
    {
      "cell_type": "code",
      "metadata": {
        "id": "cimU6Xeho2sj"
      },
      "source": [
        "!pip install -r requirements-gpu.txt\n",
        "!pip install tensorflow==2.3.0"
      ],
      "execution_count": null,
      "outputs": []
    },
    {
      "cell_type": "markdown",
      "metadata": {
        "id": "hb6mS9thpzBB"
      },
      "source": [
        "###**Tensorflow Formatına Çevirme**"
      ]
    },
    {
      "cell_type": "code",
      "metadata": {
        "id": "7PssqnUYo2xG"
      },
      "source": [
        "%cd yolov4-deepsort/\n",
        "!python save_model.py --model yolov4"
      ],
      "execution_count": null,
      "outputs": []
    },
    {
      "cell_type": "markdown",
      "metadata": {
        "id": "CfVMfXOqp442"
      },
      "source": [
        "###**Video Üzerinden Tespit ve Takip**"
      ]
    },
    {
      "cell_type": "code",
      "metadata": {
        "id": "o4rqQ1vJo2zr"
      },
      "source": [
        "!python object_tracker.py --video ./data/video/video11.mp4 --output ./outputs/tracker.mp4 --model yolov4 --dont_show --info"
      ],
      "execution_count": null,
      "outputs": []
    }
  ]
}